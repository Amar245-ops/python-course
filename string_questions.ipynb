{
 "cells": [
  {
   "cell_type": "code",
   "execution_count": null,
   "metadata": {},
   "outputs": [],
   "source": [
    "# Questions"
   ]
  },
  {
   "cell_type": "code",
   "execution_count": 1,
   "metadata": {},
   "outputs": [
    {
     "name": "stdout",
     "output_type": "stream",
     "text": [
      " M R\n"
     ]
    }
   ],
   "source": [
    "# removing all the vowels\n",
    "\n",
    "msg = input(\"enter something:\")\n",
    "for v in 'aeiouAEIOU':\n",
    "   msg = msg.replace(v, ' ')\n",
    "print(msg)"
   ]
  },
  {
   "cell_type": "code",
   "execution_count": 9,
   "metadata": {},
   "outputs": [
    {
     "data": {
      "text/plain": [
       "2"
      ]
     },
     "execution_count": 9,
     "metadata": {},
     "output_type": "execute_result"
    }
   ],
   "source": [
    "\"hello this is an example of string\".count('a')"
   ]
  },
  {
   "cell_type": "code",
   "execution_count": 5,
   "metadata": {},
   "outputs": [
    {
     "name": "stdout",
     "output_type": "stream",
     "text": [
      "you => 1\n",
      "how => 1\n",
      "r => 1\n"
     ]
    }
   ],
   "source": [
    "msg = input(\"enter something: \")\n",
    "words = set(msg.split())\n",
    "for w in words:\n",
    "    c = msg.count(w)\n",
    "    print(w, '=>',c)"
   ]
  },
  {
   "cell_type": "code",
   "execution_count": 8,
   "metadata": {},
   "outputs": [
    {
     "name": "stdout",
     "output_type": "stream",
     "text": [
      "this found at position 37\n"
     ]
    }
   ],
   "source": [
    "story ='''This is an example of another story, this story is not simple and is not very long , but it is a story'''\n",
    "q = input(\"enter search term: \")\n",
    "start = 0\n",
    "while True:\n",
    " idx = story.find(q, start)\n",
    " if idx == -1:\n",
    "    break\n",
    " print(f'{q} found at position {idx}')\n",
    " start = idx + 1"
   ]
  },
  {
   "cell_type": "code",
   "execution_count": 6,
   "metadata": {},
   "outputs": [
    {
     "name": "stdout",
     "output_type": "stream",
     "text": [
      "Th3s 3s 1n 2x1mpl2 4f 1n4th2r st4ry, th3s st4ry 3s n4t s3mpl2 1nd 3s n4t v2ry l4ng , b5t 3t 3s 1 st4ry\n"
     ]
    }
   ],
   "source": [
    "story ='''This is an example of another story, this story is not simple and is not very long , but it is a story'''\n",
    "\n",
    "for v in \"aeiouAEIOU\":\n",
    "    if v == 'a' or v == 'A':\n",
    "        story = story.replace(v,'1')\n",
    "    if v == 'e' or v == 'E':\n",
    "        story = story.replace(v,'2')\n",
    "    if v == 'i' or v == 'I':\n",
    "        story = story.replace(v,'3')\n",
    "    if v == 'o' or v == 'O':\n",
    "        story = story.replace(v,'4')\n",
    "    if v == 'u' or v == 'U':\n",
    "        story = story.replace(v,'5')\n",
    "print(story)\n"
   ]
  }
 ],
 "metadata": {
  "kernelspec": {
   "display_name": "Python 3.9.12 ('base')",
   "language": "python",
   "name": "python3"
  },
  "language_info": {
   "codemirror_mode": {
    "name": "ipython",
    "version": 3
   },
   "file_extension": ".py",
   "mimetype": "text/x-python",
   "name": "python",
   "nbconvert_exporter": "python",
   "pygments_lexer": "ipython3",
   "version": "3.9.12"
  },
  "orig_nbformat": 4,
  "vscode": {
   "interpreter": {
    "hash": "3d420e96326083e1915a436e1554feb3e60f0f5698b52c6d0582b88f6c195fae"
   }
  }
 },
 "nbformat": 4,
 "nbformat_minor": 2
}
