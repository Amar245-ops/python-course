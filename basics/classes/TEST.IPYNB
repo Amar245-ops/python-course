{
 "cells": [
  {
   "cell_type": "code",
   "execution_count": 1,
   "metadata": {},
   "outputs": [
    {
     "name": "stdout",
     "output_type": "stream",
     "text": [
      "11\n",
      "31 11\n",
      "51 31 11\n"
     ]
    }
   ],
   "source": [
    "dict = {'x':11,'y':13,'z':15}\n",
    "s=\"\"\n",
    "for i in dict:\n",
    "    s=s+str(dict[i])+\" \"\n",
    "    s1 = s[:-1]\n",
    "    print(s1[::-1])"
   ]
  },
  {
   "cell_type": "code",
   "execution_count": 4,
   "metadata": {},
   "outputs": [
    {
     "name": "stdout",
     "output_type": "stream",
     "text": [
      "170 255\n"
     ]
    }
   ],
   "source": [
    "def fun (x=10, y=20):\n",
    "    x+=5\n",
    "    y = y-3\n",
    "    return x*y\n",
    "print(fun(5), fun())"
   ]
  },
  {
   "cell_type": "code",
   "execution_count": 5,
   "metadata": {},
   "outputs": [
    {
     "name": "stdout",
     "output_type": "stream",
     "text": [
      "129\n"
     ]
    }
   ],
   "source": [
    "print(2**3+(5+6)**(1+1))"
   ]
  }
 ],
 "metadata": {
  "kernelspec": {
   "display_name": "Python 3.9.12 ('base')",
   "language": "python",
   "name": "python3"
  },
  "language_info": {
   "codemirror_mode": {
    "name": "ipython",
    "version": 3
   },
   "file_extension": ".py",
   "mimetype": "text/x-python",
   "name": "python",
   "nbconvert_exporter": "python",
   "pygments_lexer": "ipython3",
   "version": "3.9.12"
  },
  "orig_nbformat": 4,
  "vscode": {
   "interpreter": {
    "hash": "3d420e96326083e1915a436e1554feb3e60f0f5698b52c6d0582b88f6c195fae"
   }
  }
 },
 "nbformat": 4,
 "nbformat_minor": 2
}
